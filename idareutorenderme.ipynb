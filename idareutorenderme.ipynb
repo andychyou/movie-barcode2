{
 "cells": [
  {
   "cell_type": "code",
   "execution_count": 2,
   "metadata": {},
   "outputs": [
    {
     "name": "stdout",
     "output_type": "stream",
     "text": [
      "1280.0 720.0 4366\n",
      "\n"
     ]
    },
    {
     "data": {
      "image/png": "[encoded data removed]",
      "text/plain": [
       "<Figure size 432x288 with 1 Axes>"
      ]
     },
     "metadata": {
      "needs_background": "light"
     },
     "output_type": "display_data"
    }
   ],
   "source": [
    "import numpy as np\n",
    "import matplotlib.pyplot as plt\n",
    "import cv2\n",
    "import imageio\n",
    "import os\n",
    "def getColor(frame):\n",
    "    height, width, depth = frame.shape\n",
    "    y = height//2\n",
    "    x = width//2\n",
    "    \n",
    "    color = frame[y, x]\n",
    "    return color\n",
    "\n",
    "\n",
    "file_name='C:\\\\Users\\\\MASTER\\\\DESKTOP\\\\Interstellar - Trailer - Official Warner Bros. UK.mp4'\n",
    "\n",
    "presence = os.path.isfile(file_name)\n",
    "#clip data\n",
    "cap = cv2.VideoCapture(file_name) \n",
    "fwidth = cap.get(cv2.CAP_PROP_FRAME_WIDTH)\n",
    "fheight = cap.get(cv2.CAP_PROP_FRAME_HEIGHT)\n",
    "fcount = int(cap.get(cv2.CAP_PROP_FRAME_COUNT))\n",
    "print(fwidth, fheight, fcount)\n",
    "\n",
    "\n",
    "#if the file name is wrong, quits it\n",
    "if presence==False:\n",
    "    print('File name error')\n",
    "    quit()\n",
    "    \n",
    "else:\n",
    "    colors = []\n",
    "    while(True):\n",
    "        # Capture frame-by-frame\n",
    "        ret, frame = cap.read()\n",
    "        \n",
    "        \n",
    "        if ret == False:\n",
    "            break\n",
    "        \n",
    "        colors.append(getColor(frame))\n",
    "    \n",
    "\n",
    "#image \n",
    "img = np.zeros((1000,fcount,3))\n",
    "#colors it with loop\n",
    "for i in range(fcount):\n",
    "    img[:,i] = colors[i]\n",
    "\n",
    "b, g, r = cv2.split(img)\n",
    "print()\n",
    "img2 = cv2.merge([r,g,b])\n",
    "print()\n",
    "img2 = img2.astype(np.uint8)\n",
    "plt.imshow(img2)\n",
    "plt.show()\n",
    "\n",
    "imageio.imwrite('my thing.png', img2)\n",
    "\n",
    "        \n",
    "        \n",
    "\n",
    "      \n",
    "\n",
    "\n",
    "# When everything done, release the capture\n",
    "cap.release()\n",
    "cv2.destroyAllWindows()\n"
   ]
  },
  {
   "cell_type": "markdown",
   "metadata": {},
   "source": [
    "    The goal of this project is to analyze a given movie frame by frame and based on that analysis, create an image that represents the whole movie. In doing so, a convincing analysis logic both in color representation and effiency was needed and the final output would vary upon different representaion methods. However when overthinking accuracy, it's easy to loosen the grip of rendering efficiency. I chose to go with the faster rendering option and made the color selecting process simple."
   ]
  },
  {
   "cell_type": "markdown",
   "metadata": {},
   "source": [
    "    Overall mechanism is simple. 1. Bring frames using opencv. 2. Create an image using plt.\n",
    "    \n",
    "    These are the following modules imported\n",
    "    - numpy # sorts multi dimension arrays \n",
    "    - matplotlib.pyplot # plot images  \n",
    "    - cv2 # open video informations\n",
    "    - imageio # save output\n",
    "    - os # enables system management\n",
    "    \n",
    "    'getColor()' function is used to pick a representitive color of each frame. It is supposed to pick the color of the frame in the dead center. There were obviously better options to go with such as the adverage rgb color of each pixel but this seemed like too much of a complicated process. Simple and easy, having the center pixel as a representitive color seemed ok.\n",
    "    \n",
    "    When a variable(which is going to be each and every frame of the video) is put into the function, it returns a representitive color. '.shape' saves the movie's height, width and depth information. With this data, variable y and x points out the coordinate of the frame's center. Using y and x, variable color is defined as a form of numpy array. \n",
    "    \n",
    "    'file_name' is the path of the clip. I've added a touch to quit the system when 'file_name' doesn't exist. 'presence' variable detects whether there really is a file in the path.  \n",
    "    \n",
    "    'cv2.VideoCapture()' makes a capture object of a clip that's inside the bracket and is saved as 'cap'. fheight, fwidth, fcount are all defined by '.get(cv2.CAP_PROP_FRAME_XXXX)' as this method brings size and frame information. I've added int() in fcount because number of frames come as integers and later when calling the variable,it has to be in an integer form to function.\n",
    "    \n",
    "    After these basic presets, now's time to paint the image.\n",
    "    \n",
    "    The system either quits the process if 'file_name' is invalid or it properly starts to paint when it finds the clip.\n",
    "    \n",
    "    List 'colors' is for collecting all center pixel's rgb numpy arrarys.\n",
    "    \n",
    "    Entering the while loop, we begin to put things into work. With '.read()', frame by frame the loop collects boolean validity of a frame as 'ret' and stocks images of frame as 'frame'. If 'ret' turns out to be false then the loop ends as it means that there aren't any frames in the clip left. But when 'ret' is true, the loop calls getColor() function and appends the numpy array to 'colors' list.\n",
    "    \n",
    "    When the loop ends a plain image of 1000 x the number of frames with rgb depth is created as 'img' with 'np.zeros((1000,fcount,3))'. \n",
    "    \n",
    "    For loop colors 'img' with each frame's color. It colors the whole y axis and a single x axis of 'img' with the represented color until all frames are considered. \n",
    "    \n",
    "    However even though 'img' is fully colored, there are some extra steps to be made. Since opencv runs color arrangement as bgr, an image convertion to rgb has to be made. Therefore using '.split()' we individually take apart the 3 color channels and reconfigure it with an rgb setting, defining it as 'img2'. Then a change in data type is needed within the numpy array to uint8 in order to display the output. \n",
    "    \n",
    "    The image is shown by the following two commands and with imageio, the image is saved.\n",
    "    \n",
    "    'release()' method closes the opened file and 'destroyAllWindows()' closes open windows."
   ]
  },
  {
   "cell_type": "markdown",
   "metadata": {},
   "source": [
    "    I chose the Interstellar trailer as a clip source and I think it came out pretty nice. The image had a overall dark tone (cause space obviously) and depictions of the corn farm scene and the water planet scence were observable. Later if possible, it'd be better to find a better balance between accuracy and efficiency."
   ]
  }
 ],
 "metadata": {
  "kernelspec": {
   "display_name": "Python 3",
   "language": "python",
   "name": "python3"
  },
  "language_info": {
   "codemirror_mode": {
    "name": "ipython",
    "version": 3
   },
   "file_extension": ".py",
   "mimetype": "text/x-python",
   "name": "python",
   "nbconvert_exporter": "python",
   "pygments_lexer": "ipython3",
   "version": "3.6.8"
  }
 },
 "nbformat": 4,
 "nbformat_minor": 2
}
